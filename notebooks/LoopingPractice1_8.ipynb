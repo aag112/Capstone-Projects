{
  "nbformat": 4,
  "nbformat_minor": 0,
  "metadata": {
    "colab": {
      "name": "LoopingPractice1/8.ipynb",
      "provenance": [],
      "authorship_tag": "ABX9TyNxt30OaaGvmJBS1QfZ5h/5",
      "include_colab_link": true
    },
    "kernelspec": {
      "name": "python3",
      "display_name": "Python 3"
    }
  },
  "cells": [
    {
      "cell_type": "markdown",
      "metadata": {
        "id": "view-in-github",
        "colab_type": "text"
      },
      "source": [
        "<a href=\"https://colab.research.google.com/github/aag112/basic01/blob/master/LoopingPractice1_8.ipynb\" target=\"_parent\"><img src=\"https://colab.research.google.com/assets/colab-badge.svg\" alt=\"Open In Colab\"/></a>"
      ]
    },
    {
      "cell_type": "code",
      "metadata": {
        "colab": {
          "base_uri": "https://localhost:8080/"
        },
        "id": "MdHhQMx_WjVO",
        "outputId": "15599296-5a95-4b54-b6ff-74c0714da3b8"
      },
      "source": [
        "tvshows = ['star trek','game of thrones', 'stranger things']\n",
        "for show in tvshows:\n",
        "  print(show.title() + \", is one of my favorite TV shows!\\n I cant wait to watch \" + show.upper() + \" again\\n\")\n",
        "  \n",
        "print(\"I can't wait for my TV shows to come back on air!\")"
      ],
      "execution_count": 10,
      "outputs": [
        {
          "output_type": "stream",
          "text": [
            "Star Trek, is one of my favorite TV shows!\n",
            " I cant wait to watch STAR TREK again\n",
            "\n",
            "Game Of Thrones, is one of my favorite TV shows!\n",
            " I cant wait to watch GAME OF THRONES again\n",
            "\n",
            "Stranger Things, is one of my favorite TV shows!\n",
            " I cant wait to watch STRANGER THINGS again\n",
            "\n",
            "I can't wait for my TV shows to come back on air!\n"
          ],
          "name": "stdout"
        }
      ]
    },
    {
      "cell_type": "code",
      "metadata": {
        "colab": {
          "base_uri": "https://localhost:8080/"
        },
        "id": "kbmta9TgXjsD",
        "outputId": "b7e5990f-e163-4a68-88ab-f539f7accef7"
      },
      "source": [
        "family = ['Sandra','Juan','Jhoan','Devin','Adrian','Daniela','Isa','Hernan','Mylenne','Sebas','Alejandro','Haydee','Percy','Gerardo','Dani','Adriana','Ruth','Viviana','Wagner','Damian']\n",
        "for fam in family:\n",
        "  print('Hello: {}'.format(fam))\n",
        "print('Welcome family!')"
      ],
      "execution_count": 6,
      "outputs": [
        {
          "output_type": "stream",
          "text": [
            "Hello: Sandra\n",
            "Hello: Juan\n",
            "Hello: Jhoan\n",
            "Hello: Devin\n",
            "Hello: Adrian\n",
            "Hello: Daniela\n",
            "Hello: Isa\n",
            "Hello: Hernan\n",
            "Hello: Mylenne\n",
            "Hello: Sebas\n",
            "Hello: Alejandro\n",
            "Hello: Haydee\n",
            "Hello: Percy\n",
            "Hello: Gerardo\n",
            "Hello: Dani\n",
            "Hello: Adriana\n",
            "Hello: Ruth\n",
            "Hello: Viviana\n",
            "Hello: Wagner\n",
            "Hello: Damian\n",
            "Welcome family!\n"
          ],
          "name": "stdout"
        }
      ]
    },
    {
      "cell_type": "code",
      "metadata": {
        "colab": {
          "base_uri": "https://localhost:8080/"
        },
        "id": "8CcT8IbRZqQR",
        "outputId": "ae7a4493-9909-4513-eb0e-f9ebb353a385"
      },
      "source": [
        "for num in range (1,11):\n",
        "  print(num)"
      ],
      "execution_count": 13,
      "outputs": [
        {
          "output_type": "stream",
          "text": [
            "1\n",
            "2\n",
            "3\n",
            "4\n",
            "5\n",
            "6\n",
            "7\n",
            "8\n",
            "9\n",
            "10\n"
          ],
          "name": "stdout"
        }
      ]
    },
    {
      "cell_type": "code",
      "metadata": {
        "colab": {
          "base_uri": "https://localhost:8080/"
        },
        "id": "6rgRPSZLdgu7",
        "outputId": "87b26e89-d977-4662-ff12-736ce6f8498d"
      },
      "source": [
        "numbers = list(range(1,11))\n",
        "print(numbers)\n",
        "for num in numbers:\n",
        "  if num % 2 != 0:\n",
        "    print('{}'.format(num) + \" is an odd number\")\n",
        "print(\"these are all the odd numbers in the list\")"
      ],
      "execution_count": 20,
      "outputs": [
        {
          "output_type": "stream",
          "text": [
            "[1, 2, 3, 4, 5, 6, 7, 8, 9, 10]\n",
            "1 is an odd number\n",
            "3 is an odd number\n",
            "5 is an odd number\n",
            "7 is an odd number\n",
            "9 is an odd number\n",
            "these are all the odd numbers in the list\n"
          ],
          "name": "stdout"
        }
      ]
    },
    {
      "cell_type": "markdown",
      "metadata": {
        "id": "W21wvGp4fWpG"
      },
      "source": [
        "user enters a number\n",
        "tell the user if it's odd or even"
      ]
    },
    {
      "cell_type": "code",
      "metadata": {
        "colab": {
          "base_uri": "https://localhost:8080/"
        },
        "id": "qbzQFfQyenqt",
        "outputId": "af81dbf3-f728-4a1b-fef0-d8e0c3b56412"
      },
      "source": [
        "n = int(input(\"Enter a number: \"))\n",
        "if n % 2 != 0:\n",
        "  print(\"this is an odd number\")\n",
        "else:\n",
        "  print(\"this is an even number\")\n"
      ],
      "execution_count": 21,
      "outputs": [
        {
          "output_type": "stream",
          "text": [
            "Enter a number: 22\n",
            "this is an even number\n"
          ],
          "name": "stdout"
        }
      ]
    },
    {
      "cell_type": "markdown",
      "metadata": {
        "id": "RH-cVNQ7gNEq"
      },
      "source": [
        "print(f\"{variable} is even\")\n",
        "another way to print\n",
        "print('{0} is odd'.format(variable))"
      ]
    },
    {
      "cell_type": "code",
      "metadata": {
        "colab": {
          "base_uri": "https://localhost:8080/"
        },
        "id": "a4Mdx5Nmhrto",
        "outputId": "c7e11c5a-ee71-40d9-b58b-4d5008148e53"
      },
      "source": [
        "x = list(range(1,21))\n",
        "for a in x:\n",
        "  if a == 1:\n",
        "    print(f\"{a} is not a prime number\")\n",
        "  elif a == 2:\n",
        "    print(f\"{a} is a prime number\")\n",
        "  elif a%2 != 0:\n",
        "    print(f\"{a} is a prime number\")\n",
        "  else:\n",
        "    print(f\"{a} is not a prime number\")\n",
        "    #incorrect code\n"
      ],
      "execution_count": 27,
      "outputs": [
        {
          "output_type": "stream",
          "text": [
            "1 is not a prime number\n",
            "2 is a prime number\n",
            "3 is a prime number\n",
            "4 is not a prime number\n",
            "5 is a prime number\n",
            "6 is not a prime number\n",
            "7 is a prime number\n",
            "8 is not a prime number\n",
            "9 is a prime number\n",
            "10 is not a prime number\n",
            "11 is a prime number\n",
            "12 is not a prime number\n",
            "13 is a prime number\n",
            "14 is not a prime number\n",
            "15 is a prime number\n",
            "16 is not a prime number\n",
            "17 is a prime number\n",
            "18 is not a prime number\n",
            "19 is a prime number\n",
            "20 is not a prime number\n"
          ],
          "name": "stdout"
        }
      ]
    },
    {
      "cell_type": "code",
      "metadata": {
        "colab": {
          "base_uri": "https://localhost:8080/"
        },
        "id": "3X6BoP2TmgS6",
        "outputId": "b66e818e-9c7e-4195-de94-e7bdd757d8c4"
      },
      "source": [
        "for num in range(1, 101):\n",
        "  #a for loop in the ranges of 1 to 100\n",
        "    for i in range(2, num):\n",
        "      \"\"\"the variable i will store the first item on the list.\n",
        "       Within the range of 2 and the variable num\n",
        "      \"\"\" \n",
        "        if num % i == 0:\n",
        "          #if statement where the remainder of num/i is equal to zero end code\n",
        "            break\n",
        "        else:\n",
        "            print(num)\n",
        "            break"
      ],
      "execution_count": 35,
      "outputs": [
        {
          "output_type": "stream",
          "text": [
            "3\n",
            "5\n",
            "7\n",
            "9\n",
            "11\n",
            "13\n",
            "15\n",
            "17\n",
            "19\n",
            "21\n",
            "23\n",
            "25\n",
            "27\n",
            "29\n",
            "31\n",
            "33\n",
            "35\n",
            "37\n",
            "39\n",
            "41\n",
            "43\n",
            "45\n",
            "47\n",
            "49\n",
            "51\n",
            "53\n",
            "55\n",
            "57\n",
            "59\n",
            "61\n",
            "63\n",
            "65\n",
            "67\n",
            "69\n",
            "71\n",
            "73\n",
            "75\n",
            "77\n",
            "79\n",
            "81\n",
            "83\n",
            "85\n",
            "87\n",
            "89\n",
            "91\n",
            "93\n",
            "95\n",
            "97\n",
            "99\n"
          ],
          "name": "stdout"
        }
      ]
    },
    {
      "cell_type": "code",
      "metadata": {
        "colab": {
          "base_uri": "https://localhost:8080/"
        },
        "id": "VRPS4cPSu-iY",
        "outputId": "f77b6083-e5f8-49bd-ef09-b9473d5dfc90"
      },
      "source": [
        "for num in range(2,101):\n",
        "  if all(num%i !=0 for i in range(2,num)):\n",
        "    print (num)"
      ],
      "execution_count": 36,
      "outputs": [
        {
          "output_type": "stream",
          "text": [
            "2\n",
            "3\n",
            "5\n",
            "7\n",
            "11\n",
            "13\n",
            "17\n",
            "19\n",
            "23\n",
            "29\n",
            "31\n",
            "37\n",
            "41\n",
            "43\n",
            "47\n",
            "53\n",
            "59\n",
            "61\n",
            "67\n",
            "71\n",
            "73\n",
            "79\n",
            "83\n",
            "89\n",
            "97\n"
          ],
          "name": "stdout"
        }
      ]
    },
    {
      "cell_type": "code",
      "metadata": {
        "colab": {
          "base_uri": "https://localhost:8080/"
        },
        "id": "D9VVIEV9v7M6",
        "outputId": "454c1869-0c22-4f4f-89d4-9e5eeda365fc"
      },
      "source": [
        "tvshows = ['star trek','game of thrones', 'stranger things', 'big bang theory','family mirror']\n",
        "print(tvshows[0:3])\n",
        "print(tvshows[2:4])\n",
        "print(tvshows[:3])\n",
        "print(tvshows[2:])\n",
        "print(tvshows[-2:])"
      ],
      "execution_count": 40,
      "outputs": [
        {
          "output_type": "stream",
          "text": [
            "['star trek', 'game of thrones', 'stranger things']\n",
            "['stranger things', 'big bang theory']\n",
            "['star trek', 'game of thrones', 'stranger things']\n",
            "['stranger things', 'big bang theory', 'family mirror']\n",
            "['big bang theory', 'family mirror']\n"
          ],
          "name": "stdout"
        }
      ]
    },
    {
      "cell_type": "code",
      "metadata": {
        "colab": {
          "base_uri": "https://localhost:8080/"
        },
        "id": "cx4yE_zcwuK5",
        "outputId": "6c8194e1-50d4-41f8-c7d4-0b93b37f77cc"
      },
      "source": [
        "family = ['Sandra','Juan','Jhoan','Devin','Adrian','Daniela','Isa','Hernan','Mylenne','Sebas','Alejandro','Haydee','Percy','Gerardo','Dani','Adriana','Ruth','Viviana','Wagner','Damian']\n",
        "print(family[0:3])\n",
        "print(family[2:4])\n",
        "print(family[:3])\n",
        "print(family[2:])\n",
        "print(family[-2:])\n",
        "print(family[1:5])\n",
        "print(family[:-1])\n",
        "print(family[-1:])\n",
        "print(family[-3:])\n",
        "print(family[8:9])"
      ],
      "execution_count": 43,
      "outputs": [
        {
          "output_type": "stream",
          "text": [
            "['Sandra', 'Juan', 'Jhoan']\n",
            "['Jhoan', 'Devin']\n",
            "['Sandra', 'Juan', 'Jhoan']\n",
            "['Jhoan', 'Devin', 'Adrian', 'Daniela', 'Isa', 'Hernan', 'Mylenne', 'Sebas', 'Alejandro', 'Haydee', 'Percy', 'Gerardo', 'Dani', 'Adriana', 'Ruth', 'Viviana', 'Wagner', 'Damian']\n",
            "['Wagner', 'Damian']\n",
            "['Juan', 'Jhoan', 'Devin', 'Adrian']\n",
            "['Sandra', 'Juan', 'Jhoan', 'Devin', 'Adrian', 'Daniela', 'Isa', 'Hernan', 'Mylenne', 'Sebas', 'Alejandro', 'Haydee', 'Percy', 'Gerardo', 'Dani', 'Adriana', 'Ruth', 'Viviana', 'Wagner']\n",
            "['Damian']\n",
            "['Viviana', 'Wagner', 'Damian']\n",
            "['Mylenne']\n"
          ],
          "name": "stdout"
        }
      ]
    }
  ]
}