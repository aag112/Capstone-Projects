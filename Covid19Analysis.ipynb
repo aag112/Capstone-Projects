{
  "nbformat": 4,
  "nbformat_minor": 0,
  "metadata": {
    "colab": {
      "name": "Covid19Analysis.ipynb",
      "provenance": [],
      "authorship_tag": "ABX9TyM1cpjUjev5e0/Cw8y8ddtv",
      "include_colab_link": true
    },
    "kernelspec": {
      "name": "python3",
      "display_name": "Python 3"
    }
  },
  "cells": [
    {
      "cell_type": "markdown",
      "metadata": {
        "id": "view-in-github",
        "colab_type": "text"
      },
      "source": [
        "<a href=\"https://colab.research.google.com/github/aag112/basic01/blob/master/Covid19Analysis.ipynb\" target=\"_parent\"><img src=\"https://colab.research.google.com/assets/colab-badge.svg\" alt=\"Open In Colab\"/></a>"
      ]
    },
    {
      "cell_type": "code",
      "metadata": {
        "id": "kcuHDZJQcJzm"
      },
      "source": [
        "import pandas as pd\n",
        "import numpy as np\n",
        "import matplotlib.pyplot as plt\n",
        "import plotly as plt\n",
        "import statsmodels.formula.api as smf\n",
        "from numpy.random import randn\n",
        "import seaborn as sns\n",
        "from sklearn.linear_model import LinearRegression\n",
        "from matplotlib import pyplot as plt"
      ],
      "execution_count": 79,
      "outputs": []
    },
    {
      "cell_type": "code",
      "metadata": {
        "id": "IkxdLueyckgA"
      },
      "source": [
        "df = pd.read_csv(\"https://raw.githubusercontent.com/nytimes/covid-19-data/master/us-counties.csv\")"
      ],
      "execution_count": 80,
      "outputs": []
    },
    {
      "cell_type": "code",
      "metadata": {
        "colab": {
          "base_uri": "https://localhost:8080/"
        },
        "id": "et1oP2cgiXRC",
        "outputId": "c7005920-4808-4798-ed21-194dd279a7e2"
      },
      "source": [
        "df.info()"
      ],
      "execution_count": 81,
      "outputs": [
        {
          "output_type": "stream",
          "text": [
            "<class 'pandas.core.frame.DataFrame'>\n",
            "RangeIndex: 949726 entries, 0 to 949725\n",
            "Data columns (total 6 columns):\n",
            " #   Column  Non-Null Count   Dtype  \n",
            "---  ------  --------------   -----  \n",
            " 0   date    949726 non-null  object \n",
            " 1   county  949726 non-null  object \n",
            " 2   state   949726 non-null  object \n",
            " 3   fips    940870 non-null  float64\n",
            " 4   cases   949726 non-null  int64  \n",
            " 5   deaths  929405 non-null  float64\n",
            "dtypes: float64(2), int64(1), object(3)\n",
            "memory usage: 43.5+ MB\n"
          ],
          "name": "stdout"
        }
      ]
    },
    {
      "cell_type": "code",
      "metadata": {
        "id": "zneGe-6si98Y",
        "colab": {
          "base_uri": "https://localhost:8080/",
          "height": 206
        },
        "outputId": "ce6588cd-b3ca-465e-bc7a-ebcbe36f5d63"
      },
      "source": [
        "df.head()"
      ],
      "execution_count": 82,
      "outputs": [
        {
          "output_type": "execute_result",
          "data": {
            "text/html": [
              "<div>\n",
              "<style scoped>\n",
              "    .dataframe tbody tr th:only-of-type {\n",
              "        vertical-align: middle;\n",
              "    }\n",
              "\n",
              "    .dataframe tbody tr th {\n",
              "        vertical-align: top;\n",
              "    }\n",
              "\n",
              "    .dataframe thead th {\n",
              "        text-align: right;\n",
              "    }\n",
              "</style>\n",
              "<table border=\"1\" class=\"dataframe\">\n",
              "  <thead>\n",
              "    <tr style=\"text-align: right;\">\n",
              "      <th></th>\n",
              "      <th>date</th>\n",
              "      <th>county</th>\n",
              "      <th>state</th>\n",
              "      <th>fips</th>\n",
              "      <th>cases</th>\n",
              "      <th>deaths</th>\n",
              "    </tr>\n",
              "  </thead>\n",
              "  <tbody>\n",
              "    <tr>\n",
              "      <th>0</th>\n",
              "      <td>2020-01-21</td>\n",
              "      <td>Snohomish</td>\n",
              "      <td>Washington</td>\n",
              "      <td>53061.0</td>\n",
              "      <td>1</td>\n",
              "      <td>0.0</td>\n",
              "    </tr>\n",
              "    <tr>\n",
              "      <th>1</th>\n",
              "      <td>2020-01-22</td>\n",
              "      <td>Snohomish</td>\n",
              "      <td>Washington</td>\n",
              "      <td>53061.0</td>\n",
              "      <td>1</td>\n",
              "      <td>0.0</td>\n",
              "    </tr>\n",
              "    <tr>\n",
              "      <th>2</th>\n",
              "      <td>2020-01-23</td>\n",
              "      <td>Snohomish</td>\n",
              "      <td>Washington</td>\n",
              "      <td>53061.0</td>\n",
              "      <td>1</td>\n",
              "      <td>0.0</td>\n",
              "    </tr>\n",
              "    <tr>\n",
              "      <th>3</th>\n",
              "      <td>2020-01-24</td>\n",
              "      <td>Cook</td>\n",
              "      <td>Illinois</td>\n",
              "      <td>17031.0</td>\n",
              "      <td>1</td>\n",
              "      <td>0.0</td>\n",
              "    </tr>\n",
              "    <tr>\n",
              "      <th>4</th>\n",
              "      <td>2020-01-24</td>\n",
              "      <td>Snohomish</td>\n",
              "      <td>Washington</td>\n",
              "      <td>53061.0</td>\n",
              "      <td>1</td>\n",
              "      <td>0.0</td>\n",
              "    </tr>\n",
              "  </tbody>\n",
              "</table>\n",
              "</div>"
            ],
            "text/plain": [
              "         date     county       state     fips  cases  deaths\n",
              "0  2020-01-21  Snohomish  Washington  53061.0      1     0.0\n",
              "1  2020-01-22  Snohomish  Washington  53061.0      1     0.0\n",
              "2  2020-01-23  Snohomish  Washington  53061.0      1     0.0\n",
              "3  2020-01-24       Cook    Illinois  17031.0      1     0.0\n",
              "4  2020-01-24  Snohomish  Washington  53061.0      1     0.0"
            ]
          },
          "metadata": {
            "tags": []
          },
          "execution_count": 82
        }
      ]
    },
    {
      "cell_type": "code",
      "metadata": {
        "id": "SJDsZwtYPQ0g",
        "colab": {
          "base_uri": "https://localhost:8080/"
        },
        "outputId": "4aa255ea-c4e9-4310-badf-92f62adbe75e"
      },
      "source": [
        "county = df['county']\n",
        "county.head(20)"
      ],
      "execution_count": 83,
      "outputs": [
        {
          "output_type": "execute_result",
          "data": {
            "text/plain": [
              "0       Snohomish\n",
              "1       Snohomish\n",
              "2       Snohomish\n",
              "3            Cook\n",
              "4       Snohomish\n",
              "5          Orange\n",
              "6            Cook\n",
              "7       Snohomish\n",
              "8        Maricopa\n",
              "9     Los Angeles\n",
              "10         Orange\n",
              "11           Cook\n",
              "12      Snohomish\n",
              "13       Maricopa\n",
              "14    Los Angeles\n",
              "15         Orange\n",
              "16           Cook\n",
              "17      Snohomish\n",
              "18       Maricopa\n",
              "19    Los Angeles\n",
              "Name: county, dtype: object"
            ]
          },
          "metadata": {
            "tags": []
          },
          "execution_count": 83
        }
      ]
    },
    {
      "cell_type": "markdown",
      "metadata": {
        "id": "ZM2pv0OjXJyL"
      },
      "source": [
        "#Filtering data based off county, state and cases + deaths."
      ]
    },
    {
      "cell_type": "code",
      "metadata": {
        "colab": {
          "base_uri": "https://localhost:8080/",
          "height": 424
        },
        "id": "PwpQEc7lVpAU",
        "outputId": "d7de9bae-e1ac-430e-91ff-a0855644c57b"
      },
      "source": [
        "countystate = df.drop(['fips'], axis=1)\n",
        "countystate"
      ],
      "execution_count": 84,
      "outputs": [
        {
          "output_type": "execute_result",
          "data": {
            "text/html": [
              "<div>\n",
              "<style scoped>\n",
              "    .dataframe tbody tr th:only-of-type {\n",
              "        vertical-align: middle;\n",
              "    }\n",
              "\n",
              "    .dataframe tbody tr th {\n",
              "        vertical-align: top;\n",
              "    }\n",
              "\n",
              "    .dataframe thead th {\n",
              "        text-align: right;\n",
              "    }\n",
              "</style>\n",
              "<table border=\"1\" class=\"dataframe\">\n",
              "  <thead>\n",
              "    <tr style=\"text-align: right;\">\n",
              "      <th></th>\n",
              "      <th>date</th>\n",
              "      <th>county</th>\n",
              "      <th>state</th>\n",
              "      <th>cases</th>\n",
              "      <th>deaths</th>\n",
              "    </tr>\n",
              "  </thead>\n",
              "  <tbody>\n",
              "    <tr>\n",
              "      <th>0</th>\n",
              "      <td>2020-01-21</td>\n",
              "      <td>Snohomish</td>\n",
              "      <td>Washington</td>\n",
              "      <td>1</td>\n",
              "      <td>0.0</td>\n",
              "    </tr>\n",
              "    <tr>\n",
              "      <th>1</th>\n",
              "      <td>2020-01-22</td>\n",
              "      <td>Snohomish</td>\n",
              "      <td>Washington</td>\n",
              "      <td>1</td>\n",
              "      <td>0.0</td>\n",
              "    </tr>\n",
              "    <tr>\n",
              "      <th>2</th>\n",
              "      <td>2020-01-23</td>\n",
              "      <td>Snohomish</td>\n",
              "      <td>Washington</td>\n",
              "      <td>1</td>\n",
              "      <td>0.0</td>\n",
              "    </tr>\n",
              "    <tr>\n",
              "      <th>3</th>\n",
              "      <td>2020-01-24</td>\n",
              "      <td>Cook</td>\n",
              "      <td>Illinois</td>\n",
              "      <td>1</td>\n",
              "      <td>0.0</td>\n",
              "    </tr>\n",
              "    <tr>\n",
              "      <th>4</th>\n",
              "      <td>2020-01-24</td>\n",
              "      <td>Snohomish</td>\n",
              "      <td>Washington</td>\n",
              "      <td>1</td>\n",
              "      <td>0.0</td>\n",
              "    </tr>\n",
              "    <tr>\n",
              "      <th>...</th>\n",
              "      <td>...</td>\n",
              "      <td>...</td>\n",
              "      <td>...</td>\n",
              "      <td>...</td>\n",
              "      <td>...</td>\n",
              "    </tr>\n",
              "    <tr>\n",
              "      <th>949721</th>\n",
              "      <td>2021-01-20</td>\n",
              "      <td>Sweetwater</td>\n",
              "      <td>Wyoming</td>\n",
              "      <td>3347</td>\n",
              "      <td>28.0</td>\n",
              "    </tr>\n",
              "    <tr>\n",
              "      <th>949722</th>\n",
              "      <td>2021-01-20</td>\n",
              "      <td>Teton</td>\n",
              "      <td>Wyoming</td>\n",
              "      <td>2788</td>\n",
              "      <td>5.0</td>\n",
              "    </tr>\n",
              "    <tr>\n",
              "      <th>949723</th>\n",
              "      <td>2021-01-20</td>\n",
              "      <td>Uinta</td>\n",
              "      <td>Wyoming</td>\n",
              "      <td>1852</td>\n",
              "      <td>10.0</td>\n",
              "    </tr>\n",
              "    <tr>\n",
              "      <th>949724</th>\n",
              "      <td>2021-01-20</td>\n",
              "      <td>Washakie</td>\n",
              "      <td>Wyoming</td>\n",
              "      <td>845</td>\n",
              "      <td>24.0</td>\n",
              "    </tr>\n",
              "    <tr>\n",
              "      <th>949725</th>\n",
              "      <td>2021-01-20</td>\n",
              "      <td>Weston</td>\n",
              "      <td>Wyoming</td>\n",
              "      <td>606</td>\n",
              "      <td>4.0</td>\n",
              "    </tr>\n",
              "  </tbody>\n",
              "</table>\n",
              "<p>949726 rows × 5 columns</p>\n",
              "</div>"
            ],
            "text/plain": [
              "              date      county       state  cases  deaths\n",
              "0       2020-01-21   Snohomish  Washington      1     0.0\n",
              "1       2020-01-22   Snohomish  Washington      1     0.0\n",
              "2       2020-01-23   Snohomish  Washington      1     0.0\n",
              "3       2020-01-24        Cook    Illinois      1     0.0\n",
              "4       2020-01-24   Snohomish  Washington      1     0.0\n",
              "...            ...         ...         ...    ...     ...\n",
              "949721  2021-01-20  Sweetwater     Wyoming   3347    28.0\n",
              "949722  2021-01-20       Teton     Wyoming   2788     5.0\n",
              "949723  2021-01-20       Uinta     Wyoming   1852    10.0\n",
              "949724  2021-01-20    Washakie     Wyoming    845    24.0\n",
              "949725  2021-01-20      Weston     Wyoming    606     4.0\n",
              "\n",
              "[949726 rows x 5 columns]"
            ]
          },
          "metadata": {
            "tags": []
          },
          "execution_count": 84
        }
      ]
    },
    {
      "cell_type": "markdown",
      "metadata": {
        "id": "KklQfgpcftBv"
      },
      "source": [
        "#Specifically, Sweetwater, Wyoming"
      ]
    },
    {
      "cell_type": "code",
      "metadata": {
        "colab": {
          "base_uri": "https://localhost:8080/"
        },
        "id": "GUJ7FHM9XYlU",
        "outputId": "66e66d81-8c45-4408-acf3-aae43c94781b"
      },
      "source": [
        "print(\"The total deaths to date in Sweetwater, Wyoming are: \")\n",
        "df[df['county']=='Sweetwater']['deaths'].max()"
      ],
      "execution_count": 85,
      "outputs": [
        {
          "output_type": "stream",
          "text": [
            "The total deaths to date in Sweetwater, Wyoming are: \n"
          ],
          "name": "stdout"
        },
        {
          "output_type": "execute_result",
          "data": {
            "text/plain": [
              "28.0"
            ]
          },
          "metadata": {
            "tags": []
          },
          "execution_count": 85
        }
      ]
    },
    {
      "cell_type": "code",
      "metadata": {
        "colab": {
          "base_uri": "https://localhost:8080/"
        },
        "id": "El9mHTeufNGP",
        "outputId": "2e491be2-7e5e-4f66-b4d5-0e8b612dd1bd"
      },
      "source": [
        "print(\"The total cases to date in Sweetwater, Wyoming are: \")\n",
        "df[df['county']=='Sweetwater']['cases'].max()"
      ],
      "execution_count": 86,
      "outputs": [
        {
          "output_type": "stream",
          "text": [
            "The total cases to date in Sweetwater, Wyoming are: \n"
          ],
          "name": "stdout"
        },
        {
          "output_type": "execute_result",
          "data": {
            "text/plain": [
              "3347"
            ]
          },
          "metadata": {
            "tags": []
          },
          "execution_count": 86
        }
      ]
    },
    {
      "cell_type": "markdown",
      "metadata": {
        "id": "JlDcS2D_gZu3"
      },
      "source": [
        "#Calculate the daily count of new cases and deaths"
      ]
    },
    {
      "cell_type": "code",
      "metadata": {
        "colab": {
          "base_uri": "https://localhost:8080/",
          "height": 53
        },
        "id": "XRsFnsXVjIym",
        "outputId": "7e286436-f7c3-4b2d-d22d-b6f0734cc5b7"
      },
      "source": [
        "print(\"The most recent death recorded was on:\")\n",
        "recent = df['date'].max()\n",
        "recent"
      ],
      "execution_count": 87,
      "outputs": [
        {
          "output_type": "stream",
          "text": [
            "The most recent death recorded was on:\n"
          ],
          "name": "stdout"
        },
        {
          "output_type": "execute_result",
          "data": {
            "application/vnd.google.colaboratory.intrinsic+json": {
              "type": "string"
            },
            "text/plain": [
              "'2021-01-20'"
            ]
          },
          "metadata": {
            "tags": []
          },
          "execution_count": 87
        }
      ]
    },
    {
      "cell_type": "code",
      "metadata": {
        "colab": {
          "base_uri": "https://localhost:8080/"
        },
        "id": "50nvnj0igZQe",
        "outputId": "0307cf1d-2c40-478c-d3bd-73a38d813459"
      },
      "source": [
        "dailycount = df[df['date']=='2021-01-17']\n",
        "dailycount.sum()"
      ],
      "execution_count": 88,
      "outputs": [
        {
          "output_type": "execute_result",
          "data": {
            "text/plain": [
              "date      2021-01-172021-01-172021-01-172021-01-172021-0...\n",
              "county    AutaugaBaldwinBarbourBibbBlountBullockButlerCa...\n",
              "state     AlabamaAlabamaAlabamaAlabamaAlabamaAlabamaAlab...\n",
              "fips                                            1.01275e+08\n",
              "cases                                              23983607\n",
              "deaths                                               397612\n",
              "dtype: object"
            ]
          },
          "metadata": {
            "tags": []
          },
          "execution_count": 88
        }
      ]
    },
    {
      "cell_type": "code",
      "metadata": {
        "id": "wcKZJwY-l8ww"
      },
      "source": [
        "dailycount = dailycount.drop(['date', 'county', 'state', 'fips'], axis=1)"
      ],
      "execution_count": 89,
      "outputs": []
    },
    {
      "cell_type": "code",
      "metadata": {
        "colab": {
          "base_uri": "https://localhost:8080/"
        },
        "id": "5_XnT1dVmxHY",
        "outputId": "e6e77866-5e07-4f60-e70a-6e29e1b21d83"
      },
      "source": [
        "print(\"The daily count of new cases and deaths for \" + str(recent) + \" were the following:\")\n",
        "dailycount.sum()"
      ],
      "execution_count": 90,
      "outputs": [
        {
          "output_type": "stream",
          "text": [
            "The daily count of new cases and deaths for 2021-01-20 were the following:\n"
          ],
          "name": "stdout"
        },
        {
          "output_type": "execute_result",
          "data": {
            "text/plain": [
              "cases     23983607.0\n",
              "deaths      397612.0\n",
              "dtype: float64"
            ]
          },
          "metadata": {
            "tags": []
          },
          "execution_count": 90
        }
      ]
    },
    {
      "cell_type": "markdown",
      "metadata": {
        "id": "aEvP3vFMnkLm"
      },
      "source": [
        "#Print the most recent 30 days worth of data for the county"
      ]
    },
    {
      "cell_type": "code",
      "metadata": {
        "colab": {
          "base_uri": "https://localhost:8080/"
        },
        "id": "egpUy0p5yyjd",
        "outputId": "93239e14-4d83-4788-d849-832abb2bd51b"
      },
      "source": [
        "#converting date from object to datetime\n",
        "df['date'] = pd.to_datetime(df['date'],format='%Y-%m-%d')\n",
        "df.info()"
      ],
      "execution_count": 91,
      "outputs": [
        {
          "output_type": "stream",
          "text": [
            "<class 'pandas.core.frame.DataFrame'>\n",
            "RangeIndex: 949726 entries, 0 to 949725\n",
            "Data columns (total 6 columns):\n",
            " #   Column  Non-Null Count   Dtype         \n",
            "---  ------  --------------   -----         \n",
            " 0   date    949726 non-null  datetime64[ns]\n",
            " 1   county  949726 non-null  object        \n",
            " 2   state   949726 non-null  object        \n",
            " 3   fips    940870 non-null  float64       \n",
            " 4   cases   949726 non-null  int64         \n",
            " 5   deaths  929405 non-null  float64       \n",
            "dtypes: datetime64[ns](1), float64(2), int64(1), object(2)\n",
            "memory usage: 43.5+ MB\n"
          ],
          "name": "stdout"
        }
      ]
    },
    {
      "cell_type": "markdown",
      "metadata": {
        "id": "q15tbOfq_2q9"
      },
      "source": [
        "counting from last 30 days"
      ]
    },
    {
      "cell_type": "code",
      "metadata": {
        "colab": {
          "base_uri": "https://localhost:8080/",
          "height": 424
        },
        "id": "0jSQMSbWnrc0",
        "outputId": "adf1f09e-ef09-4b71-fbb0-c5683e938c34"
      },
      "source": [
        "df1 = countystate[countystate['date'] > '2020-12-18']\n",
        "df1"
      ],
      "execution_count": 92,
      "outputs": [
        {
          "output_type": "execute_result",
          "data": {
            "text/html": [
              "<div>\n",
              "<style scoped>\n",
              "    .dataframe tbody tr th:only-of-type {\n",
              "        vertical-align: middle;\n",
              "    }\n",
              "\n",
              "    .dataframe tbody tr th {\n",
              "        vertical-align: top;\n",
              "    }\n",
              "\n",
              "    .dataframe thead th {\n",
              "        text-align: right;\n",
              "    }\n",
              "</style>\n",
              "<table border=\"1\" class=\"dataframe\">\n",
              "  <thead>\n",
              "    <tr style=\"text-align: right;\">\n",
              "      <th></th>\n",
              "      <th>date</th>\n",
              "      <th>county</th>\n",
              "      <th>state</th>\n",
              "      <th>cases</th>\n",
              "      <th>deaths</th>\n",
              "    </tr>\n",
              "  </thead>\n",
              "  <tbody>\n",
              "    <tr>\n",
              "      <th>842631</th>\n",
              "      <td>2020-12-19</td>\n",
              "      <td>Autauga</td>\n",
              "      <td>Alabama</td>\n",
              "      <td>3698</td>\n",
              "      <td>44.0</td>\n",
              "    </tr>\n",
              "    <tr>\n",
              "      <th>842632</th>\n",
              "      <td>2020-12-19</td>\n",
              "      <td>Baldwin</td>\n",
              "      <td>Alabama</td>\n",
              "      <td>11722</td>\n",
              "      <td>147.0</td>\n",
              "    </tr>\n",
              "    <tr>\n",
              "      <th>842633</th>\n",
              "      <td>2020-12-19</td>\n",
              "      <td>Barbour</td>\n",
              "      <td>Alabama</td>\n",
              "      <td>1330</td>\n",
              "      <td>32.0</td>\n",
              "    </tr>\n",
              "    <tr>\n",
              "      <th>842634</th>\n",
              "      <td>2020-12-19</td>\n",
              "      <td>Bibb</td>\n",
              "      <td>Alabama</td>\n",
              "      <td>1601</td>\n",
              "      <td>42.0</td>\n",
              "    </tr>\n",
              "    <tr>\n",
              "      <th>842635</th>\n",
              "      <td>2020-12-19</td>\n",
              "      <td>Blount</td>\n",
              "      <td>Alabama</td>\n",
              "      <td>4191</td>\n",
              "      <td>54.0</td>\n",
              "    </tr>\n",
              "    <tr>\n",
              "      <th>...</th>\n",
              "      <td>...</td>\n",
              "      <td>...</td>\n",
              "      <td>...</td>\n",
              "      <td>...</td>\n",
              "      <td>...</td>\n",
              "    </tr>\n",
              "    <tr>\n",
              "      <th>949721</th>\n",
              "      <td>2021-01-20</td>\n",
              "      <td>Sweetwater</td>\n",
              "      <td>Wyoming</td>\n",
              "      <td>3347</td>\n",
              "      <td>28.0</td>\n",
              "    </tr>\n",
              "    <tr>\n",
              "      <th>949722</th>\n",
              "      <td>2021-01-20</td>\n",
              "      <td>Teton</td>\n",
              "      <td>Wyoming</td>\n",
              "      <td>2788</td>\n",
              "      <td>5.0</td>\n",
              "    </tr>\n",
              "    <tr>\n",
              "      <th>949723</th>\n",
              "      <td>2021-01-20</td>\n",
              "      <td>Uinta</td>\n",
              "      <td>Wyoming</td>\n",
              "      <td>1852</td>\n",
              "      <td>10.0</td>\n",
              "    </tr>\n",
              "    <tr>\n",
              "      <th>949724</th>\n",
              "      <td>2021-01-20</td>\n",
              "      <td>Washakie</td>\n",
              "      <td>Wyoming</td>\n",
              "      <td>845</td>\n",
              "      <td>24.0</td>\n",
              "    </tr>\n",
              "    <tr>\n",
              "      <th>949725</th>\n",
              "      <td>2021-01-20</td>\n",
              "      <td>Weston</td>\n",
              "      <td>Wyoming</td>\n",
              "      <td>606</td>\n",
              "      <td>4.0</td>\n",
              "    </tr>\n",
              "  </tbody>\n",
              "</table>\n",
              "<p>107095 rows × 5 columns</p>\n",
              "</div>"
            ],
            "text/plain": [
              "              date      county    state  cases  deaths\n",
              "842631  2020-12-19     Autauga  Alabama   3698    44.0\n",
              "842632  2020-12-19     Baldwin  Alabama  11722   147.0\n",
              "842633  2020-12-19     Barbour  Alabama   1330    32.0\n",
              "842634  2020-12-19        Bibb  Alabama   1601    42.0\n",
              "842635  2020-12-19      Blount  Alabama   4191    54.0\n",
              "...            ...         ...      ...    ...     ...\n",
              "949721  2021-01-20  Sweetwater  Wyoming   3347    28.0\n",
              "949722  2021-01-20       Teton  Wyoming   2788     5.0\n",
              "949723  2021-01-20       Uinta  Wyoming   1852    10.0\n",
              "949724  2021-01-20    Washakie  Wyoming    845    24.0\n",
              "949725  2021-01-20      Weston  Wyoming    606     4.0\n",
              "\n",
              "[107095 rows x 5 columns]"
            ]
          },
          "metadata": {
            "tags": []
          },
          "execution_count": 92
        }
      ]
    },
    {
      "cell_type": "code",
      "metadata": {
        "colab": {
          "base_uri": "https://localhost:8080/",
          "height": 1000
        },
        "id": "-xHQP0gItCcf",
        "outputId": "6a877c62-ce45-4d0f-ccb7-cae6083cd502"
      },
      "source": [
        "print(\"The last 30 days of gathered data are as follows:\")\n",
        "thirty = df1.groupby(['date'], as_index=False).sum()\n",
        "thirty"
      ],
      "execution_count": 93,
      "outputs": [
        {
          "output_type": "stream",
          "text": [
            "The last 30 days of gathered data are as follows:\n"
          ],
          "name": "stdout"
        },
        {
          "output_type": "execute_result",
          "data": {
            "text/html": [
              "<div>\n",
              "<style scoped>\n",
              "    .dataframe tbody tr th:only-of-type {\n",
              "        vertical-align: middle;\n",
              "    }\n",
              "\n",
              "    .dataframe tbody tr th {\n",
              "        vertical-align: top;\n",
              "    }\n",
              "\n",
              "    .dataframe thead th {\n",
              "        text-align: right;\n",
              "    }\n",
              "</style>\n",
              "<table border=\"1\" class=\"dataframe\">\n",
              "  <thead>\n",
              "    <tr style=\"text-align: right;\">\n",
              "      <th></th>\n",
              "      <th>date</th>\n",
              "      <th>cases</th>\n",
              "      <th>deaths</th>\n",
              "    </tr>\n",
              "  </thead>\n",
              "  <tbody>\n",
              "    <tr>\n",
              "      <th>0</th>\n",
              "      <td>2020-12-19</td>\n",
              "      <td>17701529</td>\n",
              "      <td>316371.0</td>\n",
              "    </tr>\n",
              "    <tr>\n",
              "      <th>1</th>\n",
              "      <td>2020-12-20</td>\n",
              "      <td>17881485</td>\n",
              "      <td>317800.0</td>\n",
              "    </tr>\n",
              "    <tr>\n",
              "      <th>2</th>\n",
              "      <td>2020-12-21</td>\n",
              "      <td>18083055</td>\n",
              "      <td>319763.0</td>\n",
              "    </tr>\n",
              "    <tr>\n",
              "      <th>3</th>\n",
              "      <td>2020-12-22</td>\n",
              "      <td>18284729</td>\n",
              "      <td>323002.0</td>\n",
              "    </tr>\n",
              "    <tr>\n",
              "      <th>4</th>\n",
              "      <td>2020-12-23</td>\n",
              "      <td>18512479</td>\n",
              "      <td>326413.0</td>\n",
              "    </tr>\n",
              "    <tr>\n",
              "      <th>5</th>\n",
              "      <td>2020-12-24</td>\n",
              "      <td>18706036</td>\n",
              "      <td>329237.0</td>\n",
              "    </tr>\n",
              "    <tr>\n",
              "      <th>6</th>\n",
              "      <td>2020-12-25</td>\n",
              "      <td>18807030</td>\n",
              "      <td>330366.0</td>\n",
              "    </tr>\n",
              "    <tr>\n",
              "      <th>7</th>\n",
              "      <td>2020-12-26</td>\n",
              "      <td>19023888</td>\n",
              "      <td>332012.0</td>\n",
              "    </tr>\n",
              "    <tr>\n",
              "      <th>8</th>\n",
              "      <td>2020-12-27</td>\n",
              "      <td>19175990</td>\n",
              "      <td>333242.0</td>\n",
              "    </tr>\n",
              "    <tr>\n",
              "      <th>9</th>\n",
              "      <td>2020-12-28</td>\n",
              "      <td>19365034</td>\n",
              "      <td>335141.0</td>\n",
              "    </tr>\n",
              "    <tr>\n",
              "      <th>10</th>\n",
              "      <td>2020-12-29</td>\n",
              "      <td>19566140</td>\n",
              "      <td>338769.0</td>\n",
              "    </tr>\n",
              "    <tr>\n",
              "      <th>11</th>\n",
              "      <td>2020-12-30</td>\n",
              "      <td>19795178</td>\n",
              "      <td>342577.0</td>\n",
              "    </tr>\n",
              "    <tr>\n",
              "      <th>12</th>\n",
              "      <td>2020-12-31</td>\n",
              "      <td>20026223</td>\n",
              "      <td>346039.0</td>\n",
              "    </tr>\n",
              "    <tr>\n",
              "      <th>13</th>\n",
              "      <td>2021-01-01</td>\n",
              "      <td>20173382</td>\n",
              "      <td>347956.0</td>\n",
              "    </tr>\n",
              "    <tr>\n",
              "      <th>14</th>\n",
              "      <td>2021-01-02</td>\n",
              "      <td>20464766</td>\n",
              "      <td>350329.0</td>\n",
              "    </tr>\n",
              "    <tr>\n",
              "      <th>15</th>\n",
              "      <td>2021-01-03</td>\n",
              "      <td>20666746</td>\n",
              "      <td>351682.0</td>\n",
              "    </tr>\n",
              "    <tr>\n",
              "      <th>16</th>\n",
              "      <td>2021-01-04</td>\n",
              "      <td>20918664</td>\n",
              "      <td>353730.0</td>\n",
              "    </tr>\n",
              "    <tr>\n",
              "      <th>17</th>\n",
              "      <td>2021-01-05</td>\n",
              "      <td>21153715</td>\n",
              "      <td>357419.0</td>\n",
              "    </tr>\n",
              "    <tr>\n",
              "      <th>18</th>\n",
              "      <td>2021-01-06</td>\n",
              "      <td>21409443</td>\n",
              "      <td>361383.0</td>\n",
              "    </tr>\n",
              "    <tr>\n",
              "      <th>19</th>\n",
              "      <td>2021-01-07</td>\n",
              "      <td>21689735</td>\n",
              "      <td>365495.0</td>\n",
              "    </tr>\n",
              "    <tr>\n",
              "      <th>20</th>\n",
              "      <td>2021-01-08</td>\n",
              "      <td>21990329</td>\n",
              "      <td>369390.0</td>\n",
              "    </tr>\n",
              "    <tr>\n",
              "      <th>21</th>\n",
              "      <td>2021-01-09</td>\n",
              "      <td>22242471</td>\n",
              "      <td>372651.0</td>\n",
              "    </tr>\n",
              "    <tr>\n",
              "      <th>22</th>\n",
              "      <td>2021-01-10</td>\n",
              "      <td>22450809</td>\n",
              "      <td>374428.0</td>\n",
              "    </tr>\n",
              "    <tr>\n",
              "      <th>23</th>\n",
              "      <td>2021-01-11</td>\n",
              "      <td>22673730</td>\n",
              "      <td>376476.0</td>\n",
              "    </tr>\n",
              "    <tr>\n",
              "      <th>24</th>\n",
              "      <td>2021-01-12</td>\n",
              "      <td>22903442</td>\n",
              "      <td>380882.0</td>\n",
              "    </tr>\n",
              "    <tr>\n",
              "      <th>25</th>\n",
              "      <td>2021-01-13</td>\n",
              "      <td>23132740</td>\n",
              "      <td>384812.0</td>\n",
              "    </tr>\n",
              "    <tr>\n",
              "      <th>26</th>\n",
              "      <td>2021-01-14</td>\n",
              "      <td>23371360</td>\n",
              "      <td>388792.0</td>\n",
              "    </tr>\n",
              "    <tr>\n",
              "      <th>27</th>\n",
              "      <td>2021-01-15</td>\n",
              "      <td>23612307</td>\n",
              "      <td>392541.0</td>\n",
              "    </tr>\n",
              "    <tr>\n",
              "      <th>28</th>\n",
              "      <td>2021-01-16</td>\n",
              "      <td>23813966</td>\n",
              "      <td>395882.0</td>\n",
              "    </tr>\n",
              "    <tr>\n",
              "      <th>29</th>\n",
              "      <td>2021-01-17</td>\n",
              "      <td>23983607</td>\n",
              "      <td>397612.0</td>\n",
              "    </tr>\n",
              "    <tr>\n",
              "      <th>30</th>\n",
              "      <td>2021-01-18</td>\n",
              "      <td>24126194</td>\n",
              "      <td>399053.0</td>\n",
              "    </tr>\n",
              "    <tr>\n",
              "      <th>31</th>\n",
              "      <td>2021-01-19</td>\n",
              "      <td>24311264</td>\n",
              "      <td>401824.0</td>\n",
              "    </tr>\n",
              "    <tr>\n",
              "      <th>32</th>\n",
              "      <td>2021-01-20</td>\n",
              "      <td>24496018</td>\n",
              "      <td>406190.0</td>\n",
              "    </tr>\n",
              "  </tbody>\n",
              "</table>\n",
              "</div>"
            ],
            "text/plain": [
              "          date     cases    deaths\n",
              "0   2020-12-19  17701529  316371.0\n",
              "1   2020-12-20  17881485  317800.0\n",
              "2   2020-12-21  18083055  319763.0\n",
              "3   2020-12-22  18284729  323002.0\n",
              "4   2020-12-23  18512479  326413.0\n",
              "5   2020-12-24  18706036  329237.0\n",
              "6   2020-12-25  18807030  330366.0\n",
              "7   2020-12-26  19023888  332012.0\n",
              "8   2020-12-27  19175990  333242.0\n",
              "9   2020-12-28  19365034  335141.0\n",
              "10  2020-12-29  19566140  338769.0\n",
              "11  2020-12-30  19795178  342577.0\n",
              "12  2020-12-31  20026223  346039.0\n",
              "13  2021-01-01  20173382  347956.0\n",
              "14  2021-01-02  20464766  350329.0\n",
              "15  2021-01-03  20666746  351682.0\n",
              "16  2021-01-04  20918664  353730.0\n",
              "17  2021-01-05  21153715  357419.0\n",
              "18  2021-01-06  21409443  361383.0\n",
              "19  2021-01-07  21689735  365495.0\n",
              "20  2021-01-08  21990329  369390.0\n",
              "21  2021-01-09  22242471  372651.0\n",
              "22  2021-01-10  22450809  374428.0\n",
              "23  2021-01-11  22673730  376476.0\n",
              "24  2021-01-12  22903442  380882.0\n",
              "25  2021-01-13  23132740  384812.0\n",
              "26  2021-01-14  23371360  388792.0\n",
              "27  2021-01-15  23612307  392541.0\n",
              "28  2021-01-16  23813966  395882.0\n",
              "29  2021-01-17  23983607  397612.0\n",
              "30  2021-01-18  24126194  399053.0\n",
              "31  2021-01-19  24311264  401824.0\n",
              "32  2021-01-20  24496018  406190.0"
            ]
          },
          "metadata": {
            "tags": []
          },
          "execution_count": 93
        }
      ]
    },
    {
      "cell_type": "markdown",
      "metadata": {
        "id": "xsOKK5yACgVZ"
      },
      "source": [
        "We need to filter the desired county and state"
      ]
    },
    {
      "cell_type": "code",
      "metadata": {
        "id": "cusGyUcIBxW8"
      },
      "source": [
        "bool_mask = (df1['state'] == 'Wyoming') & (df1['county'] == 'Sweetwater')\n",
        "df1_sweet = df1[bool_mask].copy()"
      ],
      "execution_count": 94,
      "outputs": []
    },
    {
      "cell_type": "markdown",
      "metadata": {
        "id": "SwwsiytvCkJD"
      },
      "source": [
        "We are looking for the last 30 days"
      ]
    },
    {
      "cell_type": "code",
      "metadata": {
        "colab": {
          "base_uri": "https://localhost:8080/",
          "height": 1000
        },
        "id": "VcGQZpqGCOyf",
        "outputId": "6639ad0e-9965-4823-fc98-1a1c3b420bd5"
      },
      "source": [
        "print(\"The last 30 days in Sweetwater, Wyoming are as follows:\")\n",
        "df1_sweet_30 = df1_sweet.loc['2020-12-18':].copy()\n",
        "df1_sweet_30"
      ],
      "execution_count": 95,
      "outputs": [
        {
          "output_type": "stream",
          "text": [
            "The last 30 days in Sweetwater, Wyoming are as follows:\n"
          ],
          "name": "stdout"
        },
        {
          "output_type": "execute_result",
          "data": {
            "text/html": [
              "<div>\n",
              "<style scoped>\n",
              "    .dataframe tbody tr th:only-of-type {\n",
              "        vertical-align: middle;\n",
              "    }\n",
              "\n",
              "    .dataframe tbody tr th {\n",
              "        vertical-align: top;\n",
              "    }\n",
              "\n",
              "    .dataframe thead th {\n",
              "        text-align: right;\n",
              "    }\n",
              "</style>\n",
              "<table border=\"1\" class=\"dataframe\">\n",
              "  <thead>\n",
              "    <tr style=\"text-align: right;\">\n",
              "      <th></th>\n",
              "      <th>date</th>\n",
              "      <th>county</th>\n",
              "      <th>state</th>\n",
              "      <th>cases</th>\n",
              "      <th>deaths</th>\n",
              "    </tr>\n",
              "  </thead>\n",
              "  <tbody>\n",
              "    <tr>\n",
              "      <th>845872</th>\n",
              "      <td>2020-12-19</td>\n",
              "      <td>Sweetwater</td>\n",
              "      <td>Wyoming</td>\n",
              "      <td>2702</td>\n",
              "      <td>15.0</td>\n",
              "    </tr>\n",
              "    <tr>\n",
              "      <th>849117</th>\n",
              "      <td>2020-12-20</td>\n",
              "      <td>Sweetwater</td>\n",
              "      <td>Wyoming</td>\n",
              "      <td>2718</td>\n",
              "      <td>15.0</td>\n",
              "    </tr>\n",
              "    <tr>\n",
              "      <th>852362</th>\n",
              "      <td>2020-12-21</td>\n",
              "      <td>Sweetwater</td>\n",
              "      <td>Wyoming</td>\n",
              "      <td>2762</td>\n",
              "      <td>15.0</td>\n",
              "    </tr>\n",
              "    <tr>\n",
              "      <th>855607</th>\n",
              "      <td>2020-12-22</td>\n",
              "      <td>Sweetwater</td>\n",
              "      <td>Wyoming</td>\n",
              "      <td>2780</td>\n",
              "      <td>15.0</td>\n",
              "    </tr>\n",
              "    <tr>\n",
              "      <th>858852</th>\n",
              "      <td>2020-12-23</td>\n",
              "      <td>Sweetwater</td>\n",
              "      <td>Wyoming</td>\n",
              "      <td>2820</td>\n",
              "      <td>15.0</td>\n",
              "    </tr>\n",
              "    <tr>\n",
              "      <th>862097</th>\n",
              "      <td>2020-12-24</td>\n",
              "      <td>Sweetwater</td>\n",
              "      <td>Wyoming</td>\n",
              "      <td>2820</td>\n",
              "      <td>15.0</td>\n",
              "    </tr>\n",
              "    <tr>\n",
              "      <th>865342</th>\n",
              "      <td>2020-12-25</td>\n",
              "      <td>Sweetwater</td>\n",
              "      <td>Wyoming</td>\n",
              "      <td>2820</td>\n",
              "      <td>15.0</td>\n",
              "    </tr>\n",
              "    <tr>\n",
              "      <th>868587</th>\n",
              "      <td>2020-12-26</td>\n",
              "      <td>Sweetwater</td>\n",
              "      <td>Wyoming</td>\n",
              "      <td>2845</td>\n",
              "      <td>15.0</td>\n",
              "    </tr>\n",
              "    <tr>\n",
              "      <th>871832</th>\n",
              "      <td>2020-12-27</td>\n",
              "      <td>Sweetwater</td>\n",
              "      <td>Wyoming</td>\n",
              "      <td>2854</td>\n",
              "      <td>15.0</td>\n",
              "    </tr>\n",
              "    <tr>\n",
              "      <th>875077</th>\n",
              "      <td>2020-12-28</td>\n",
              "      <td>Sweetwater</td>\n",
              "      <td>Wyoming</td>\n",
              "      <td>2921</td>\n",
              "      <td>15.0</td>\n",
              "    </tr>\n",
              "    <tr>\n",
              "      <th>878322</th>\n",
              "      <td>2020-12-29</td>\n",
              "      <td>Sweetwater</td>\n",
              "      <td>Wyoming</td>\n",
              "      <td>2929</td>\n",
              "      <td>15.0</td>\n",
              "    </tr>\n",
              "    <tr>\n",
              "      <th>881567</th>\n",
              "      <td>2020-12-30</td>\n",
              "      <td>Sweetwater</td>\n",
              "      <td>Wyoming</td>\n",
              "      <td>2943</td>\n",
              "      <td>15.0</td>\n",
              "    </tr>\n",
              "    <tr>\n",
              "      <th>884812</th>\n",
              "      <td>2020-12-31</td>\n",
              "      <td>Sweetwater</td>\n",
              "      <td>Wyoming</td>\n",
              "      <td>2966</td>\n",
              "      <td>16.0</td>\n",
              "    </tr>\n",
              "    <tr>\n",
              "      <th>888057</th>\n",
              "      <td>2021-01-01</td>\n",
              "      <td>Sweetwater</td>\n",
              "      <td>Wyoming</td>\n",
              "      <td>2966</td>\n",
              "      <td>16.0</td>\n",
              "    </tr>\n",
              "    <tr>\n",
              "      <th>891304</th>\n",
              "      <td>2021-01-02</td>\n",
              "      <td>Sweetwater</td>\n",
              "      <td>Wyoming</td>\n",
              "      <td>2992</td>\n",
              "      <td>16.0</td>\n",
              "    </tr>\n",
              "    <tr>\n",
              "      <th>894550</th>\n",
              "      <td>2021-01-03</td>\n",
              "      <td>Sweetwater</td>\n",
              "      <td>Wyoming</td>\n",
              "      <td>3020</td>\n",
              "      <td>16.0</td>\n",
              "    </tr>\n",
              "    <tr>\n",
              "      <th>897796</th>\n",
              "      <td>2021-01-04</td>\n",
              "      <td>Sweetwater</td>\n",
              "      <td>Wyoming</td>\n",
              "      <td>3053</td>\n",
              "      <td>16.0</td>\n",
              "    </tr>\n",
              "    <tr>\n",
              "      <th>901041</th>\n",
              "      <td>2021-01-05</td>\n",
              "      <td>Sweetwater</td>\n",
              "      <td>Wyoming</td>\n",
              "      <td>3061</td>\n",
              "      <td>19.0</td>\n",
              "    </tr>\n",
              "    <tr>\n",
              "      <th>904286</th>\n",
              "      <td>2021-01-06</td>\n",
              "      <td>Sweetwater</td>\n",
              "      <td>Wyoming</td>\n",
              "      <td>3083</td>\n",
              "      <td>19.0</td>\n",
              "    </tr>\n",
              "    <tr>\n",
              "      <th>907532</th>\n",
              "      <td>2021-01-07</td>\n",
              "      <td>Sweetwater</td>\n",
              "      <td>Wyoming</td>\n",
              "      <td>3108</td>\n",
              "      <td>24.0</td>\n",
              "    </tr>\n",
              "    <tr>\n",
              "      <th>910777</th>\n",
              "      <td>2021-01-08</td>\n",
              "      <td>Sweetwater</td>\n",
              "      <td>Wyoming</td>\n",
              "      <td>3153</td>\n",
              "      <td>24.0</td>\n",
              "    </tr>\n",
              "    <tr>\n",
              "      <th>914022</th>\n",
              "      <td>2021-01-09</td>\n",
              "      <td>Sweetwater</td>\n",
              "      <td>Wyoming</td>\n",
              "      <td>3157</td>\n",
              "      <td>24.0</td>\n",
              "    </tr>\n",
              "    <tr>\n",
              "      <th>917267</th>\n",
              "      <td>2021-01-10</td>\n",
              "      <td>Sweetwater</td>\n",
              "      <td>Wyoming</td>\n",
              "      <td>3162</td>\n",
              "      <td>24.0</td>\n",
              "    </tr>\n",
              "    <tr>\n",
              "      <th>920512</th>\n",
              "      <td>2021-01-11</td>\n",
              "      <td>Sweetwater</td>\n",
              "      <td>Wyoming</td>\n",
              "      <td>3187</td>\n",
              "      <td>24.0</td>\n",
              "    </tr>\n",
              "    <tr>\n",
              "      <th>923757</th>\n",
              "      <td>2021-01-12</td>\n",
              "      <td>Sweetwater</td>\n",
              "      <td>Wyoming</td>\n",
              "      <td>3210</td>\n",
              "      <td>26.0</td>\n",
              "    </tr>\n",
              "    <tr>\n",
              "      <th>927003</th>\n",
              "      <td>2021-01-13</td>\n",
              "      <td>Sweetwater</td>\n",
              "      <td>Wyoming</td>\n",
              "      <td>3222</td>\n",
              "      <td>26.0</td>\n",
              "    </tr>\n",
              "    <tr>\n",
              "      <th>930248</th>\n",
              "      <td>2021-01-14</td>\n",
              "      <td>Sweetwater</td>\n",
              "      <td>Wyoming</td>\n",
              "      <td>3250</td>\n",
              "      <td>26.0</td>\n",
              "    </tr>\n",
              "    <tr>\n",
              "      <th>933493</th>\n",
              "      <td>2021-01-15</td>\n",
              "      <td>Sweetwater</td>\n",
              "      <td>Wyoming</td>\n",
              "      <td>3262</td>\n",
              "      <td>26.0</td>\n",
              "    </tr>\n",
              "    <tr>\n",
              "      <th>936738</th>\n",
              "      <td>2021-01-16</td>\n",
              "      <td>Sweetwater</td>\n",
              "      <td>Wyoming</td>\n",
              "      <td>3280</td>\n",
              "      <td>26.0</td>\n",
              "    </tr>\n",
              "    <tr>\n",
              "      <th>939983</th>\n",
              "      <td>2021-01-17</td>\n",
              "      <td>Sweetwater</td>\n",
              "      <td>Wyoming</td>\n",
              "      <td>3290</td>\n",
              "      <td>26.0</td>\n",
              "    </tr>\n",
              "    <tr>\n",
              "      <th>943228</th>\n",
              "      <td>2021-01-18</td>\n",
              "      <td>Sweetwater</td>\n",
              "      <td>Wyoming</td>\n",
              "      <td>3312</td>\n",
              "      <td>26.0</td>\n",
              "    </tr>\n",
              "    <tr>\n",
              "      <th>946475</th>\n",
              "      <td>2021-01-19</td>\n",
              "      <td>Sweetwater</td>\n",
              "      <td>Wyoming</td>\n",
              "      <td>3329</td>\n",
              "      <td>28.0</td>\n",
              "    </tr>\n",
              "    <tr>\n",
              "      <th>949721</th>\n",
              "      <td>2021-01-20</td>\n",
              "      <td>Sweetwater</td>\n",
              "      <td>Wyoming</td>\n",
              "      <td>3347</td>\n",
              "      <td>28.0</td>\n",
              "    </tr>\n",
              "  </tbody>\n",
              "</table>\n",
              "</div>"
            ],
            "text/plain": [
              "              date      county    state  cases  deaths\n",
              "845872  2020-12-19  Sweetwater  Wyoming   2702    15.0\n",
              "849117  2020-12-20  Sweetwater  Wyoming   2718    15.0\n",
              "852362  2020-12-21  Sweetwater  Wyoming   2762    15.0\n",
              "855607  2020-12-22  Sweetwater  Wyoming   2780    15.0\n",
              "858852  2020-12-23  Sweetwater  Wyoming   2820    15.0\n",
              "862097  2020-12-24  Sweetwater  Wyoming   2820    15.0\n",
              "865342  2020-12-25  Sweetwater  Wyoming   2820    15.0\n",
              "868587  2020-12-26  Sweetwater  Wyoming   2845    15.0\n",
              "871832  2020-12-27  Sweetwater  Wyoming   2854    15.0\n",
              "875077  2020-12-28  Sweetwater  Wyoming   2921    15.0\n",
              "878322  2020-12-29  Sweetwater  Wyoming   2929    15.0\n",
              "881567  2020-12-30  Sweetwater  Wyoming   2943    15.0\n",
              "884812  2020-12-31  Sweetwater  Wyoming   2966    16.0\n",
              "888057  2021-01-01  Sweetwater  Wyoming   2966    16.0\n",
              "891304  2021-01-02  Sweetwater  Wyoming   2992    16.0\n",
              "894550  2021-01-03  Sweetwater  Wyoming   3020    16.0\n",
              "897796  2021-01-04  Sweetwater  Wyoming   3053    16.0\n",
              "901041  2021-01-05  Sweetwater  Wyoming   3061    19.0\n",
              "904286  2021-01-06  Sweetwater  Wyoming   3083    19.0\n",
              "907532  2021-01-07  Sweetwater  Wyoming   3108    24.0\n",
              "910777  2021-01-08  Sweetwater  Wyoming   3153    24.0\n",
              "914022  2021-01-09  Sweetwater  Wyoming   3157    24.0\n",
              "917267  2021-01-10  Sweetwater  Wyoming   3162    24.0\n",
              "920512  2021-01-11  Sweetwater  Wyoming   3187    24.0\n",
              "923757  2021-01-12  Sweetwater  Wyoming   3210    26.0\n",
              "927003  2021-01-13  Sweetwater  Wyoming   3222    26.0\n",
              "930248  2021-01-14  Sweetwater  Wyoming   3250    26.0\n",
              "933493  2021-01-15  Sweetwater  Wyoming   3262    26.0\n",
              "936738  2021-01-16  Sweetwater  Wyoming   3280    26.0\n",
              "939983  2021-01-17  Sweetwater  Wyoming   3290    26.0\n",
              "943228  2021-01-18  Sweetwater  Wyoming   3312    26.0\n",
              "946475  2021-01-19  Sweetwater  Wyoming   3329    28.0\n",
              "949721  2021-01-20  Sweetwater  Wyoming   3347    28.0"
            ]
          },
          "metadata": {
            "tags": []
          },
          "execution_count": 95
        }
      ]
    },
    {
      "cell_type": "markdown",
      "metadata": {
        "id": "rgBSKk8i6_Vr"
      },
      "source": [
        "#EDA"
      ]
    },
    {
      "cell_type": "code",
      "metadata": {
        "colab": {
          "base_uri": "https://localhost:8080/",
          "height": 354
        },
        "id": "LSvRmc3xtJSo",
        "outputId": "41807fe5-3c6e-4088-cbe7-774c05fd7e21"
      },
      "source": [
        "sns.lineplot(data = thirty, x=\"date\", y='deaths',legend='auto')\n",
        "plt.title('Deaths Throughout The Last 30 Days')\n",
        "plt.xticks(rotation=90);"
      ],
      "execution_count": 96,
      "outputs": [
        {
          "output_type": "display_data",
          "data": {
            "image/png": "[encoded data removed]",
            "text/plain": [
              "<Figure size 432x288 with 1 Axes>"
            ]
          },
          "metadata": {
            "tags": []
          }
        }
      ]
    },
    {
      "cell_type": "code",
      "metadata": {
        "colab": {
          "base_uri": "https://localhost:8080/",
          "height": 354
        },
        "id": "ghOMu6bttO7X",
        "outputId": "41dd6ba4-ebc0-40ad-fc51-005dda98470a"
      },
      "source": [
        "sns.lineplot(x = df1_sweet_30['date'], y = df1_sweet_30['cases'],err_style=None)\n",
        "plt.title('Cases Throughout The Last 30 Days in Sweetwater, Wyoming')\n",
        "plt.xticks(rotation=90);"
      ],
      "execution_count": 97,
      "outputs": [
        {
          "output_type": "display_data",
          "data": {
            "image/png": "[encoded data removed]",
            "text/plain": [
              "<Figure size 432x288 with 1 Axes>"
            ]
          },
          "metadata": {
            "tags": []
          }
        }
      ]
    },
    {
      "cell_type": "code",
      "metadata": {
        "colab": {
          "base_uri": "https://localhost:8080/",
          "height": 354
        },
        "id": "WLPb2FCLtTfC",
        "outputId": "1ac432cc-914c-4b95-9eae-0347060f6038"
      },
      "source": [
        "sns.lineplot(x = df1_sweet_30['date'], y = df1_sweet_30['deaths'],err_style=None)\n",
        "plt.title('Deaths Throughout The Last 30 Days in Sweetwater, Wyoming')\n",
        "plt.xticks(rotation=90);"
      ],
      "execution_count": 98,
      "outputs": [
        {
          "output_type": "display_data",
          "data": {
            "image/png": "[encoded data removed]",
            "text/plain": [
              "<Figure size 432x288 with 1 Axes>"
            ]
          },
          "metadata": {
            "tags": []
          }
        }
      ]
    },
    {
      "cell_type": "markdown",
      "metadata": {
        "id": "sHZ2L3gAAD9B"
      },
      "source": [
        "creating a list of 4 states of interest"
      ]
    },
    {
      "cell_type": "code",
      "metadata": {
        "id": "JpJBjmrp-bqz"
      },
      "source": [
        "states = ['New York', 'Washington', 'Wyoming', 'California']"
      ],
      "execution_count": 99,
      "outputs": []
    },
    {
      "cell_type": "markdown",
      "metadata": {
        "id": "Zcw2YUdlA1mT"
      },
      "source": [
        "filtering for a desired set of states"
      ]
    },
    {
      "cell_type": "code",
      "metadata": {
        "id": "8FI6gqsIAIA4"
      },
      "source": [
        "bool_mask = (df1['state'] == 'New York') | (df1['state'] == 'Washington') | (df1['state'] == 'Wyoming') | (df1['state'] == 'California')\n",
        "data = df1[bool_mask]"
      ],
      "execution_count": 100,
      "outputs": []
    },
    {
      "cell_type": "markdown",
      "metadata": {
        "id": "GnBezAEoOo24"
      },
      "source": [
        "filtering only states from the data assigning it to a new variable"
      ]
    },
    {
      "cell_type": "code",
      "metadata": {
        "colab": {
          "base_uri": "https://localhost:8080/",
          "height": 206
        },
        "id": "1jIAOmEjA4m4",
        "outputId": "2f69f2b9-2332-468e-dcc4-9845e4ffa5d5"
      },
      "source": [
        "states = countystate.groupby(['state'], as_index=False).sum()\n",
        "states.head()"
      ],
      "execution_count": 101,
      "outputs": [
        {
          "output_type": "execute_result",
          "data": {
            "text/html": [
              "<div>\n",
              "<style scoped>\n",
              "    .dataframe tbody tr th:only-of-type {\n",
              "        vertical-align: middle;\n",
              "    }\n",
              "\n",
              "    .dataframe tbody tr th {\n",
              "        vertical-align: top;\n",
              "    }\n",
              "\n",
              "    .dataframe thead th {\n",
              "        text-align: right;\n",
              "    }\n",
              "</style>\n",
              "<table border=\"1\" class=\"dataframe\">\n",
              "  <thead>\n",
              "    <tr style=\"text-align: right;\">\n",
              "      <th></th>\n",
              "      <th>state</th>\n",
              "      <th>cases</th>\n",
              "      <th>deaths</th>\n",
              "    </tr>\n",
              "  </thead>\n",
              "  <tbody>\n",
              "    <tr>\n",
              "      <th>0</th>\n",
              "      <td>Alabama</td>\n",
              "      <td>40244037</td>\n",
              "      <td>636091.0</td>\n",
              "    </tr>\n",
              "    <tr>\n",
              "      <th>1</th>\n",
              "      <td>Alaska</td>\n",
              "      <td>3850914</td>\n",
              "      <td>17458.0</td>\n",
              "    </tr>\n",
              "    <tr>\n",
              "      <th>2</th>\n",
              "      <td>Arizona</td>\n",
              "      <td>59535175</td>\n",
              "      <td>1253719.0</td>\n",
              "    </tr>\n",
              "    <tr>\n",
              "      <th>3</th>\n",
              "      <td>Arkansas</td>\n",
              "      <td>23491953</td>\n",
              "      <td>367192.0</td>\n",
              "    </tr>\n",
              "    <tr>\n",
              "      <th>4</th>\n",
              "      <td>California</td>\n",
              "      <td>229777961</td>\n",
              "      <td>3672975.0</td>\n",
              "    </tr>\n",
              "  </tbody>\n",
              "</table>\n",
              "</div>"
            ],
            "text/plain": [
              "        state      cases     deaths\n",
              "0     Alabama   40244037   636091.0\n",
              "1      Alaska    3850914    17458.0\n",
              "2     Arizona   59535175  1253719.0\n",
              "3    Arkansas   23491953   367192.0\n",
              "4  California  229777961  3672975.0"
            ]
          },
          "metadata": {
            "tags": []
          },
          "execution_count": 101
        }
      ]
    },
    {
      "cell_type": "code",
      "metadata": {
        "colab": {
          "base_uri": "https://localhost:8080/",
          "height": 538
        },
        "id": "CASIGqMAHG9e",
        "outputId": "24f800f5-62d8-4a20-c5fd-a2e024b9dfc7"
      },
      "source": [
        "plt.figure(figsize=(15,8))\n",
        "\n",
        "sns.set(style=\"darkgrid\")\n",
        "\n",
        "#ax = sns.barplot(x=\"budget2018\", y=\"ministere\", data=budget, label=\"Total\")\n",
        "sns.set_color_codes(\"pastel\")\n",
        "sns.barplot(x=\"deaths\", y=\"state\", data=states, label=\"Deaths Per State\")\n",
        "\n",
        "sns.despine(left=True, bottom=True)\n",
        "plt.title(\"Deaths Per State\")\n",
        "plt.tight_layout()\n",
        "plt.show()"
      ],
      "execution_count": 102,
      "outputs": [
        {
          "output_type": "display_data",
          "data": {
            "image/png": "[encoded data removed]",
            "text/plain": [
              "<Figure size 1080x576 with 1 Axes>"
            ]
          },
          "metadata": {
            "tags": []
          }
        }
      ]
    },
    {
      "cell_type": "code",
      "metadata": {
        "id": "wmGb58SIOTtm"
      },
      "source": [
        "states2 = pd.melt(states, id_vars=['state'], value_vars=['deaths','cases'], var_name='Survived')"
      ],
      "execution_count": 103,
      "outputs": []
    },
    {
      "cell_type": "code",
      "metadata": {
        "colab": {
          "base_uri": "https://localhost:8080/",
          "height": 206
        },
        "id": "UP0wsI9XSrAn",
        "outputId": "645ecae6-b799-47b4-a2eb-af4a3c804298"
      },
      "source": [
        "states2.head()"
      ],
      "execution_count": 104,
      "outputs": [
        {
          "output_type": "execute_result",
          "data": {
            "text/html": [
              "<div>\n",
              "<style scoped>\n",
              "    .dataframe tbody tr th:only-of-type {\n",
              "        vertical-align: middle;\n",
              "    }\n",
              "\n",
              "    .dataframe tbody tr th {\n",
              "        vertical-align: top;\n",
              "    }\n",
              "\n",
              "    .dataframe thead th {\n",
              "        text-align: right;\n",
              "    }\n",
              "</style>\n",
              "<table border=\"1\" class=\"dataframe\">\n",
              "  <thead>\n",
              "    <tr style=\"text-align: right;\">\n",
              "      <th></th>\n",
              "      <th>state</th>\n",
              "      <th>Survived</th>\n",
              "      <th>value</th>\n",
              "    </tr>\n",
              "  </thead>\n",
              "  <tbody>\n",
              "    <tr>\n",
              "      <th>0</th>\n",
              "      <td>Alabama</td>\n",
              "      <td>deaths</td>\n",
              "      <td>636091.0</td>\n",
              "    </tr>\n",
              "    <tr>\n",
              "      <th>1</th>\n",
              "      <td>Alaska</td>\n",
              "      <td>deaths</td>\n",
              "      <td>17458.0</td>\n",
              "    </tr>\n",
              "    <tr>\n",
              "      <th>2</th>\n",
              "      <td>Arizona</td>\n",
              "      <td>deaths</td>\n",
              "      <td>1253719.0</td>\n",
              "    </tr>\n",
              "    <tr>\n",
              "      <th>3</th>\n",
              "      <td>Arkansas</td>\n",
              "      <td>deaths</td>\n",
              "      <td>367192.0</td>\n",
              "    </tr>\n",
              "    <tr>\n",
              "      <th>4</th>\n",
              "      <td>California</td>\n",
              "      <td>deaths</td>\n",
              "      <td>3672975.0</td>\n",
              "    </tr>\n",
              "  </tbody>\n",
              "</table>\n",
              "</div>"
            ],
            "text/plain": [
              "        state Survived      value\n",
              "0     Alabama   deaths   636091.0\n",
              "1      Alaska   deaths    17458.0\n",
              "2     Arizona   deaths  1253719.0\n",
              "3    Arkansas   deaths   367192.0\n",
              "4  California   deaths  3672975.0"
            ]
          },
          "metadata": {
            "tags": []
          },
          "execution_count": 104
        }
      ]
    },
    {
      "cell_type": "markdown",
      "metadata": {
        "id": "szSa6tYqTgkZ"
      },
      "source": [
        "Comparing cases with deaths in each state"
      ]
    },
    {
      "cell_type": "code",
      "metadata": {
        "colab": {
          "base_uri": "https://localhost:8080/",
          "height": 538
        },
        "id": "93IomTGmOmlp",
        "outputId": "b1bf837f-d899-45ef-d42e-6613084a5d01"
      },
      "source": [
        "plt.figure(figsize=(15,8))\n",
        "\n",
        "sns.set(style=\"darkgrid\")\n",
        "\n",
        "\n",
        "sns.set_color_codes(\"pastel\")\n",
        "sns.barplot(x=\"value\", y=\"state\", data=states2, hue='Survived')\n",
        "\n",
        "sns.despine(left=True, bottom=True)\n",
        "plt.title(\"Cases v Deaths Per State\")\n",
        "plt.tight_layout()\n",
        "plt.show()"
      ],
      "execution_count": 105,
      "outputs": [
        {
          "output_type": "display_data",
          "data": {
            "image/png": "[encoded data removed]",
            "text/plain": [
              "<Figure size 1080x576 with 1 Axes>"
            ]
          },
          "metadata": {
            "tags": []
          }
        }
      ]
    },
    {
      "cell_type": "markdown",
      "metadata": {
        "id": "8s-oXGBpLMAS"
      },
      "source": [
        "#Predicting future trends"
      ]
    },
    {
      "cell_type": "code",
      "metadata": {
        "id": "xHnl4C5SYbfq"
      },
      "source": [
        "from matplotlib.dates import DateFormatter\n",
        "from datetime import datetime, timedelta\n",
        "import matplotlib.dates as mdates"
      ],
      "execution_count": 106,
      "outputs": []
    },
    {
      "cell_type": "code",
      "metadata": {
        "id": "_54eB1ucX-G7"
      },
      "source": [
        "#create a list containing all the dates and we convert them from string to a more suitable datetime format.\n",
        "dates = df['date']\n",
        "date_format = [pd.to_datetime(d) for d in dates]"
      ],
      "execution_count": 107,
      "outputs": []
    },
    {
      "cell_type": "markdown",
      "metadata": {
        "id": "OEdnDesPiqFx"
      },
      "source": [
        "#Creating derived variable for the model\n",
        "\n",
        "by using the combined values of cases and deaths as a indication of Covid-19's progression and viewing trends"
      ]
    },
    {
      "cell_type": "code",
      "metadata": {
        "colab": {
          "base_uri": "https://localhost:8080/",
          "height": 354
        },
        "id": "5ztLlO0iLRTj",
        "outputId": "d28f0c5c-0e24-4236-c5a5-f24a5ead4ff5"
      },
      "source": [
        "df['progression'] = df['cases'] + df['deaths']\n",
        "variable = 'progression'\n",
        "fig, ax = plt.subplots(figsize=(12, 5))\n",
        "ax.grid()\n",
        "ax.scatter(df['date'],df[variable])\n",
        "ax.set(xlabel=\"date\",ylabel=variable,title='Modeled ' + variable)\n",
        "date_form = DateFormatter(\"%m-%d\")\n",
        "ax.xaxis.set_major_formatter(date_form)\n",
        "ax.xaxis.set_major_locator(mdates.DayLocator(interval = 25)) #interval between dates shown on graph\n",
        "ax.axvline(datetime(2020, 10, 28), c=\"green\", zorder=0)\n",
        "fig.savefig(variable + '.png')\n",
        "plt.show()"
      ],
      "execution_count": 108,
      "outputs": [
        {
          "output_type": "display_data",
          "data": {
            "image/png": "[encoded data removed]",
            "text/plain": [
              "<Figure size 864x360 with 1 Axes>"
            ]
          },
          "metadata": {
            "tags": []
          }
        }
      ]
    },
    {
      "cell_type": "markdown",
      "metadata": {
        "id": "SpnBrhnKkh4z"
      },
      "source": [
        "The green line is shown to represent the start of the ascending trend shown by our data."
      ]
    },
    {
      "cell_type": "markdown",
      "metadata": {
        "id": "wA3xpXV9k-f4"
      },
      "source": [
        "#Building a Linear Regression model according to our progression variable and our trend indicator (October 28, 2020)"
      ]
    },
    {
      "cell_type": "markdown",
      "metadata": {
        "id": "Yp_trtB6px6V"
      },
      "source": [
        "upon receiving a \"Input contains NaN, infinity or a value too large for dtype('float64').\" error. The data set needed to be cleaned"
      ]
    },
    {
      "cell_type": "code",
      "metadata": {
        "colab": {
          "base_uri": "https://localhost:8080/"
        },
        "id": "hrVqeSCdpdS9",
        "outputId": "9f73cae6-fa1b-4fca-c7e9-4b20c940fc8f"
      },
      "source": [
        "'''from sklearn import linear_model\n",
        "df_reset = df\n",
        "def clean_dataset(df_reset):\n",
        "    assert isinstance(df_reset, pd.DataFrame), \"df_reset needs to be a pd.DataFrame\"\n",
        "    df_reset.dropna(inplace=True)\n",
        "    indices_to_keep = ~df_reset.isin([np.nan, np.inf, -np.inf]).any(1)\n",
        "    return df_reset[indices_to_keep].astype(np.float64)\n",
        "clean_dataset'''"
      ],
      "execution_count": 109,
      "outputs": [
        {
          "output_type": "execute_result",
          "data": {
            "text/plain": [
              "<function __main__.clean_dataset>"
            ]
          },
          "metadata": {
            "tags": []
          },
          "execution_count": 109
        }
      ]
    },
    {
      "cell_type": "code",
      "metadata": {
        "id": "fBWNuAdVrlld"
      },
      "source": [
        "df_reset.replace('?', np.nan, inplace=True)\n",
        "df_reset.dropna(inplace=True)"
      ],
      "execution_count": 114,
      "outputs": []
    },
    {
      "cell_type": "code",
      "metadata": {
        "colab": {
          "base_uri": "https://localhost:8080/"
        },
        "id": "1jnu4ZrLlWAH",
        "outputId": "7d60d5d5-c0f3-4c4e-c358-38069c6c7ea0"
      },
      "source": [
        "# prepare the lists for the model\n",
        "X = date_format\n",
        "y = df_reset['progression'].tolist()[1:] #convert the index into a list\n",
        "# date format is not suitable for modeling. Need to transform the date into incrementals number starting from 10/28/20\n",
        "starting_date = 275  # Oct 28 is the 275th day of the series\n",
        "day_numbers = []\n",
        "for i in range(1, len(X)):\n",
        "    day_numbers.append([i])\n",
        "X = day_numbers\n",
        "# train our model only with data after the peak and filter out the previous data\n",
        "X = X[starting_date:920548] #added 275 to the length of y so that they can be equal dimensions\n",
        "y = y[starting_date:]\n",
        "\n",
        "\n",
        "# Instantiate Linear Regression\n",
        "linear_regr = linear_model.LinearRegression()\n",
        "# Train the model using the training sets\n",
        "linear_regr.fit(X, y)\n",
        "print (\"Linear Regression Model Score: %s\" % (linear_regr.score(X, y)))\n"
      ],
      "execution_count": 131,
      "outputs": [
        {
          "output_type": "stream",
          "text": [
            "Linear Regression Model Score: 0.026599604681864508\n"
          ],
          "name": "stdout"
        }
      ]
    },
    {
      "cell_type": "markdown",
      "metadata": {
        "id": "sREZTWlU3vYh"
      },
      "source": [
        "The R^2 value here is too low to for the model to be considered fit to our data. The coefficient of determination should be close to 1"
      ]
    },
    {
      "cell_type": "markdown",
      "metadata": {
        "id": "Kq9PjPzoTuGs"
      },
      "source": [
        "#In conclusion, the data shows that there has been a great recovery rate in every state. New York, New Jersey, California, Florida and Texas seem to lead the country in death count with a considerable amount of cases respectively."
      ]
    },
    {
      "cell_type": "code",
      "metadata": {
        "id": "hy1XYhfMPF-0"
      },
      "source": [
        ""
      ],
      "execution_count": null,
      "outputs": []
    }
  ]
}