{
  "nbformat": 4,
  "nbformat_minor": 0,
  "metadata": {
    "colab": {
      "name": "basic01.ipynb",
      "provenance": [],
      "authorship_tag": "ABX9TyPVnujj808WZLcwbrOyEeBf",
      "include_colab_link": true
    },
    "kernelspec": {
      "name": "python3",
      "display_name": "Python 3"
    }
  },
  "cells": [
    {
      "cell_type": "markdown",
      "metadata": {
        "id": "view-in-github",
        "colab_type": "text"
      },
      "source": [
        "<a href=\"https://colab.research.google.com/github/aag112/basic01/blob/master/basic01.ipynb\" target=\"_parent\"><img src=\"https://colab.research.google.com/assets/colab-badge.svg\" alt=\"Open In Colab\"/></a>"
      ]
    },
    {
      "cell_type": "code",
      "metadata": {
        "id": "yNIRJQNJYUPY"
      },
      "source": [
        "import math "
      ],
      "execution_count": 18,
      "outputs": []
    },
    {
      "cell_type": "markdown",
      "metadata": {
        "id": "WegcQk_UMOmd"
      },
      "source": [
        "create five variables"
      ]
    },
    {
      "cell_type": "code",
      "metadata": {
        "id": "gwjSwzH6JvEj"
      },
      "source": [
        "first_name = \"Adrian\"\n",
        "firstname = 'Adrian'\n",
        "FirstName = 'Adrian'\n",
        "FIRSTNAME = 'Adrian'"
      ],
      "execution_count": 5,
      "outputs": []
    },
    {
      "cell_type": "code",
      "metadata": {
        "colab": {
          "base_uri": "https://localhost:8080/"
        },
        "id": "rJh4TsL0NERi",
        "outputId": "bfbd7f63-43fd-457d-9461-79b4d15e9dd8"
      },
      "source": [
        "print(first_name)\n",
        "print(firstname)\n",
        "print(FirstName)\n",
        "print(FIRSTNAME)"
      ],
      "execution_count": 8,
      "outputs": [
        {
          "output_type": "stream",
          "text": [
            "Adrian\n",
            "Adrian\n",
            "Adrian\n",
            "Adrian\n"
          ],
          "name": "stdout"
        }
      ]
    },
    {
      "cell_type": "markdown",
      "metadata": {
        "id": "hNfDTDGSPnxP"
      },
      "source": [
        "write 10 last names"
      ]
    },
    {
      "cell_type": "code",
      "metadata": {
        "id": "xLA8cpRWNt2d"
      },
      "source": [
        "a = 'Garcia'\n",
        "b = 'Alvarez'\n",
        "c = 'Messi'\n",
        "d = 'Suarez'\n",
        "e = 'James'\n",
        "f = 'Curry'\n",
        "g = 'Lillard'\n",
        "h = 'Barrett'\n",
        "i = 'Burke'\n",
        "j = 'Smith'"
      ],
      "execution_count": 10,
      "outputs": []
    },
    {
      "cell_type": "code",
      "metadata": {
        "colab": {
          "base_uri": "https://localhost:8080/"
        },
        "id": "qZSbR_e3Oexm",
        "outputId": "f3c5868b-8813-49b4-aa05-5b05ee6f1398"
      },
      "source": [
        "print (a, b, c, d, e, f, g, h, i , j)"
      ],
      "execution_count": 12,
      "outputs": [
        {
          "output_type": "stream",
          "text": [
            "Garcia Alvarez Messi Suarez James Curry Lillard Barrett Burke Smith\n"
          ],
          "name": "stdout"
        }
      ]
    },
    {
      "cell_type": "code",
      "metadata": {
        "colab": {
          "base_uri": "https://localhost:8080/"
        },
        "id": "-kdPTlE8PyOJ",
        "outputId": "db1ee7b4-befa-4e72-ebfd-15c495aa8128"
      },
      "source": [
        "num = 12.907\n",
        "print (num)"
      ],
      "execution_count": 16,
      "outputs": [
        {
          "output_type": "stream",
          "text": [
            "12.907\n"
          ],
          "name": "stdout"
        }
      ]
    },
    {
      "cell_type": "code",
      "metadata": {
        "colab": {
          "base_uri": "https://localhost:8080/"
        },
        "id": "VdykAlERYgsE",
        "outputId": "3de6d94c-cfa4-4348-b1cc-6c920eb0b494"
      },
      "source": [
        "math.pi"
      ],
      "execution_count": 19,
      "outputs": [
        {
          "output_type": "execute_result",
          "data": {
            "text/plain": [
              "3.141592653589793"
            ]
          },
          "metadata": {
            "tags": []
          },
          "execution_count": 19
        }
      ]
    },
    {
      "cell_type": "code",
      "metadata": {
        "colab": {
          "base_uri": "https://localhost:8080/"
        },
        "id": "WHYRwDc_Y6Nu",
        "outputId": "89a7c418-8492-4780-8836-611579625875"
      },
      "source": [
        "game = True \n",
        "type(game)"
      ],
      "execution_count": 22,
      "outputs": [
        {
          "output_type": "execute_result",
          "data": {
            "text/plain": [
              "bool"
            ]
          },
          "metadata": {
            "tags": []
          },
          "execution_count": 22
        }
      ]
    },
    {
      "cell_type": "code",
      "metadata": {
        "colab": {
          "base_uri": "https://localhost:8080/"
        },
        "id": "2J1_uascZUSQ",
        "outputId": "e167215e-014d-42a8-d320-32b067b6b421"
      },
      "source": [
        "list = ['name','time','carrots']\n",
        "print(list)"
      ],
      "execution_count": 24,
      "outputs": [
        {
          "output_type": "stream",
          "text": [
            "['name', 'time', 'carrots']\n"
          ],
          "name": "stdout"
        }
      ]
    },
    {
      "cell_type": "markdown",
      "metadata": {
        "id": "AoksujuMZlNN"
      },
      "source": [
        "create 10 lists, 10 bool and 10 floats"
      ]
    },
    {
      "cell_type": "code",
      "metadata": {
        "colab": {
          "base_uri": "https://localhost:8080/"
        },
        "id": "cs1T9n19Zr7h",
        "outputId": "1528a466-8585-4417-8d51-cbef0567b79a"
      },
      "source": [
        "list = ['x','y','z']\n",
        "list2 = ['1','2','3']\n",
        "list3 = ['true','false','yes','no']\n",
        "list4 = ['a','b','c']\n",
        "list5 = ['A','B','C']\n",
        "list6 = ['day','night','noon']\n",
        "list7 = ['one','two','three']\n",
        "list8 = ['five','six','seven']\n",
        "list9 = ['eight','nine','ten']\n",
        "print(list8)"
      ],
      "execution_count": 29,
      "outputs": [
        {
          "output_type": "stream",
          "text": [
            "['five', 'six', 'seven']\n"
          ],
          "name": "stdout"
        }
      ]
    },
    {
      "cell_type": "code",
      "metadata": {
        "colab": {
          "base_uri": "https://localhost:8080/"
        },
        "id": "j7aNBD6ibNGf",
        "outputId": "bdc7caba-07da-44fd-f356-24ddf3ad7c7c"
      },
      "source": [
        "bool = 'true'\n",
        "bool = 'false'\n",
        "bool = 'true'\n",
        "bool = 'false'\n",
        "bool = 'true'\n",
        "bool = 'false'\n",
        "bool = 'true'\n",
        "bool = 'false'\n",
        "bool = 'true'\n",
        "bool = 'false'\n",
        "print(bool)"
      ],
      "execution_count": 28,
      "outputs": [
        {
          "output_type": "stream",
          "text": [
            "false\n"
          ],
          "name": "stdout"
        }
      ]
    },
    {
      "cell_type": "code",
      "metadata": {
        "id": "iYbnLpOybepP"
      },
      "source": [
        "float = 0.001\n",
        "float = 0.123\n",
        "float = 5.5\n",
        "float = 3.14\n",
        "float = 2.09\n",
        "float = 5.3976493658\n",
        "float = 4.897\n",
        "float = 6973.03\n",
        "float = 3974.909\n",
        "float = 32.098\n"
      ],
      "execution_count": null,
      "outputs": []
    }
  ]
}